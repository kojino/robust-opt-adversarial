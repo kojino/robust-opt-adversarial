{
 "cells": [
  {
   "cell_type": "code",
   "execution_count": 2,
   "metadata": {},
   "outputs": [
    {
     "name": "stderr",
     "output_type": "stream",
     "text": [
      "Using TensorFlow backend.\n",
      "/Users/kojin/anaconda/envs/ml/lib/python3.6/importlib/_bootstrap.py:219: RuntimeWarning: compiletime version 3.5 of module 'tensorflow.python.framework.fast_tensor_util' does not match runtime version 3.6\n",
      "  return f(*args, **kwds)\n"
     ]
    }
   ],
   "source": [
    "import numpy as np\n",
    "from keras.datasets import cifar10\n",
    "from keras.layers import Activation, Dense, Flatten, Conv2D, MaxPooling2D, Dropout\n",
    "from keras.models import Sequential\n",
    "import copy\n",
    "from cleverhans.utils_mnist import data_mnist\n",
    "from PIL import Image"
   ]
  },
  {
   "cell_type": "code",
   "execution_count": 36,
   "metadata": {},
   "outputs": [],
   "source": [
    "def to_onehot(vec):\n",
    "    vec = vec.flatten()\n",
    "    vec_new = np.zeros((len(vec), np.max(vec) + 1))\n",
    "    vec_new[np.arange(len(vec)), vec] = 1\n",
    "    return vec_new\n",
    "\n",
    "def load_data(data='mnist'):\n",
    "    if data == 'mnist':\n",
    "        # Get MNIST test data\n",
    "        X_train, Y_train, X_test, Y_test = data_mnist()\n",
    "    elif data == 'cifar10':\n",
    "        # Get Cifar10 data\n",
    "        (X_train, Y_train), (X_test, Y_test) = cifar10.load_data()\n",
    "        Y_train = to_onehot(Y_train.flatten())\n",
    "        Y_test = to_onehot(Y_test.flatten())\n",
    "    else:\n",
    "        raise ValueError(\"Dataset not compatible.\")\n",
    "    return X_train, Y_train, X_test, Y_test\n",
    "data='cifar10'\n",
    "# Load data\n",
    "X_train, Y_train, X_test, Y_test = load_data(data)\n",
    "\n",
    "# Flatten image matrices\n",
    "num_train, num_rows, num_cols, num_channels = X_train.shape\n",
    "num_test, _, _, _ = X_test.shape\n",
    "_, num_classes = Y_train.shape"
   ]
  },
  {
   "cell_type": "code",
   "execution_count": 76,
   "metadata": {},
   "outputs": [],
   "source": [
    "\n",
    "class DirectNoise():\n",
    "    '''\n",
    "    Contains functions that apply each noise transformation on any set of input images.\n",
    "    '''\n",
    "    def __init__(self):\n",
    "        return\n",
    "    \n",
    "    def apply_noise(self,data,noise_type,index=None):\n",
    "        def shrink(p1_shape,p2_shape,resize_shape,stack_fn):\n",
    "            result = np.zeros(data.shape)\n",
    "            p1 = np.zeros(p1_shape)\n",
    "            p2 = np.zeros(p2_shape)\n",
    "            for i in range(num_data):\n",
    "                image_array = np.uint8(data[i,:].reshape(imshape)*255)\n",
    "                image = Image.fromarray(image_array).resize(resize_shape, Image.ANTIALIAS)\n",
    "                image = np.array(image)/255.0\n",
    "                full_image = stack_fn((p1, image, p2))\n",
    "                if num_channels == 1:\n",
    "                    full_image = np.expand_dims(full_image,-1)\n",
    "                result[i,:] = full_image\n",
    "            return result\n",
    "        \n",
    "        def noise(f):\n",
    "            random_values = f(np.random.random(data.shape) * 0.1)\n",
    "            return np.clip((data + random_values), 0.0, 1.0)\n",
    "\n",
    "        def format_background(background):\n",
    "            background = np.expand_dims(background,0)\n",
    "            if num_channels == 1:\n",
    "                background = np.expand_dims(background,-1)\n",
    "            return np.clip(data + background, 0.0, 1.0)\n",
    "        \n",
    "        data = copy.deepcopy(data) \n",
    "        noise_type = noise_type\n",
    "        num_data, num_row_pixels,num_col_pixels,num_channels = data.shape\n",
    "        if num_channels == 1:\n",
    "            imshape = (num_row_pixels,num_col_pixels)\n",
    "            vpadding = (4,num_col_pixels)\n",
    "            hpadding = (num_row_pixels,4)\n",
    "        else:\n",
    "            imshape = (num_row_pixels,num_col_pixels,num_channels)\n",
    "            vpadding = (4,num_col_pixels, num_channels)\n",
    "            hpadding = (num_row_pixels,4, num_channels)\n",
    "\n",
    "        if noise_type == 'none':\n",
    "            return data\n",
    "\n",
    "        elif noise_type == 'vert_shrink25':\n",
    "            return shrink(vpadding,vpadding,(num_row_pixels,num_col_pixels-8),np.vstack)\n",
    "\n",
    "        elif noise_type == 'horiz_shrink25':\n",
    "            return shrink(hpadding,hpadding,(num_row_pixels-8,num_col_pixels),np.hstack)\n",
    "\n",
    "        elif noise_type == 'both_shrink25':\n",
    "            data = shrink(hpadding,hpadding,(num_row_pixels-8,num_col_pixels),np.hstack)\n",
    "            return shrink(vpadding,vpadding,(num_row_pixels,num_col_pixels-8),np.vstack)\n",
    "\n",
    "        elif noise_type == 'light_tint':\n",
    "            background = 0.2 * np.ones(imshape)\n",
    "            return format_background(background)\n",
    "\n",
    "        elif noise_type == 'gradient':\n",
    "            background = np.zeros(imshape)\n",
    "            for i in range(num_row_pixels):\n",
    "                for j in range(num_row_pixels):\n",
    "                    background[i,j] = ((i+j)/54.0) * 0.4\n",
    "            return format_background(background)\n",
    "\n",
    "        elif noise_type == 'checkerboard':\n",
    "            background = np.zeros(imshape)\n",
    "            for i in range(num_row_pixels):\n",
    "                if (i % 4 == 0) or (i % 4 == 1):\n",
    "                    background[i,:] = 0.4\n",
    "                    background[:,i] = 0.2\n",
    "            return format_background(background)\n",
    "\n",
    "        elif noise_type == 'pos_noise':\n",
    "            return noise(lambda x: x + 0.05)\n",
    "\n",
    "        elif noise_type == 'mid_noise':\n",
    "            return noise(lambda x: x - 0.05)\n",
    "\n",
    "        elif noise_type == 'neg_noise':\n",
    "            return noise(lambda x: -1.0 * (x + 0.05))\n",
    "\n",
    "        else:\n",
    "            raise ValueError(\"This noise type is not currently supported.\")\n",
    "\n",
    "    def load_adversarial_examples(self,noise,data_type,index):\n",
    "        images = pkl.load(open(f'../datasets/mnist_attacks/{noise}/{data_type}_features.p','rb'))\n",
    "        num_features = int(os.environ['num_features'])\n",
    "        images = images.reshape(images.shape[0],num_features)\n",
    "        if index:\n",
    "            return images[index]\n",
    "        else:\n",
    "            return images"
   ]
  },
  {
   "cell_type": "code",
   "execution_count": 77,
   "metadata": {},
   "outputs": [],
   "source": []
  },
  {
   "cell_type": "code",
   "execution_count": 78,
   "metadata": {},
   "outputs": [
    {
     "data": {
      "text/plain": [
       "(50000, 32, 32, 3)"
      ]
     },
     "execution_count": 78,
     "metadata": {},
     "output_type": "execute_result"
    }
   ],
   "source": [
    "direct_noise.apply_noise(X_train,'vert_shrink25').shape"
   ]
  },
  {
   "cell_type": "code",
   "execution_count": 79,
   "metadata": {},
   "outputs": [
    {
     "data": {
      "text/plain": [
       "(50000, 32, 32, 3)"
      ]
     },
     "execution_count": 79,
     "metadata": {},
     "output_type": "execute_result"
    }
   ],
   "source": [
    "direct_noise.apply_noise(X_train,'both_shrink25').shape"
   ]
  },
  {
   "cell_type": "code",
   "execution_count": 80,
   "metadata": {},
   "outputs": [
    {
     "data": {
      "text/plain": [
       "(50000, 32, 32, 3)"
      ]
     },
     "execution_count": 80,
     "metadata": {},
     "output_type": "execute_result"
    }
   ],
   "source": [
    "direct_noise.apply_noise(X_train,'gradient').shape"
   ]
  },
  {
   "cell_type": "code",
   "execution_count": 81,
   "metadata": {},
   "outputs": [
    {
     "data": {
      "text/plain": [
       "(50000, 32, 32, 3)"
      ]
     },
     "execution_count": 81,
     "metadata": {},
     "output_type": "execute_result"
    }
   ],
   "source": [
    "direct_noise.apply_noise(X_train,'neg_noise').shape"
   ]
  },
  {
   "cell_type": "code",
   "execution_count": null,
   "metadata": {},
   "outputs": [],
   "source": []
  }
 ],
 "metadata": {
  "kernelspec": {
   "display_name": "ml",
   "language": "python",
   "name": "ml"
  },
  "language_info": {
   "codemirror_mode": {
    "name": "ipython",
    "version": 3
   },
   "file_extension": ".py",
   "mimetype": "text/x-python",
   "name": "python",
   "nbconvert_exporter": "python",
   "pygments_lexer": "ipython3",
   "version": "3.6.3"
  }
 },
 "nbformat": 4,
 "nbformat_minor": 2
}
